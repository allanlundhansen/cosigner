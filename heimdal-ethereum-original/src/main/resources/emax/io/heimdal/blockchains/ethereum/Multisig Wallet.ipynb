{
 "cells": [
  {
   "cell_type": "code",
   "metadata": {},
   "outputs": [],
   "source": [
    "%%writefile multisig.sl\n",
    "contract multisig {\n",
    "    address private signer0 = 0xDEADBEEF0;\n",
    "    address private signer1 = 0xDEADBEEF1;\n",
    "    address private signer2 = 0xDEADBEEF2;\n",
    "    \n",
    "    uint public counter = 0;\n",
    "    address public lastSigner = 0;\n",
    "    address public closingLastSinger = 0;\n",
    "    address public pendingClosingDestination = 0;\n",
    "    address public pendingTransactionDestination = 0;\n",
    "    uint public pendingTransactionAmount = 0;\n",
    "\n",
    "    function sendAmount(uint newCounterValue, \n",
    "                        address destination,\n",
    "                        uint amount) \n",
    "    public returns (bool) {\n",
    "        if ((msg.sender == signer0 || \n",
    "             msg.sender == signer1 ||\n",
    "             msg.sender == signer2) && \n",
    "            address(this).balance >= amount) {\n",
    "            // If nothing pending, \n",
    "            // make a new pending transaction\n",
    "            if (counter + 1 == newCounterValue &&\n",
    "                lastSigner == 0 &&\n",
    "                pendingTransactionDestination == 0 &&\n",
    "                pendingTransactionAmount == 0) {\n",
    "                counter = newCounterValue;\n",
    "                pendingTransactionDestination = destination;\n",
    "                pendingTransactionAmount = amount;\n",
    "                lastSigner = msg.sender;\n",
    "                return true;\n",
    "            }\n",
    "            // If pending transaction, send and clear\n",
    "            if (counter == newCounterValue &&\n",
    "                lastSigner != msg.sender &&\n",
    "                pendingTransactionDestination == destination &&\n",
    "                pendingTransactionAmount == amount) {\n",
    "                pendingTransactionDestination.send(pendingTransactionAmount);\n",
    "                pendingTransactionDestination = 0;\n",
    "                pendingTransactionAmount = 0;\n",
    "                lastSigner = 0;\n",
    "                return true;\n",
    "            }    \n",
    "            return false;\n",
    "        }\n",
    "        return false;\n",
    "    }\n",
    "  // TODO: Cancel Send Amount\n",
    "    \n",
    "  function closeWallet(uint newCounterValue, \n",
    "                       address destination)\n",
    "    public returns (bool) {\n",
    "        if (msg.sender == signer0 || \n",
    "            msg.sender == signer1 ||\n",
    "            msg.sender == signer2) {\n",
    "            if (counter + 1 == newCounterValue &&\n",
    "                closingLastSinger == 0 &&\n",
    "                pendingClosingDestination == 0) {\n",
    "                counter = newCounterValue;\n",
    "                pendingClosingDestination = destination;\n",
    "                closingLastSinger = msg.sender;\n",
    "                return true;\n",
    "            }\n",
    "            if (counter == newCounterValue &&\n",
    "                closingLastSinger != msg.sender &&\n",
    "                pendingClosingDestination == destination) {\n",
    "                suicide(pendingClosingDestination);\n",
    "                return true;\n",
    "            }\n",
    "        }\n",
    "        return false;\n",
    "    }\n",
    "  // TODO: Cancel closeWallet\n",
    "}"
   ]
  },
  {
   "cell_type": "code",
   "execution_count": 16,
   "metadata": {},
   "outputs": [
    {
     "name": "stdout",
     "output_type": "stream",
     "text": [
      "\n",
      "======= multisig =======\n",
      "Binary: \n",
      "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\n"
     ]
    }
   ],
   "source": [
    "%%bash\n",
    "solc --optimize=1 --binary stdout multisig.sl"
   ]
  },
  {
   "cell_type": "code",
   "metadata": {},
   "outputs": [],
   "source": [
    ""
   ]
  },
  {
   "cell_type": "code",
   "metadata": {},
   "outputs": [],
   "source": [
    ""
   ]
  }
 ],
 "metadata": {
  "kernelspec": {
   "display_name": "Python 2",
   "language": "python",
   "name": "python2"
  },
  "language_info": {
   "codemirror_mode": {
    "name": "ipython",
    "version": 2.0
   },
   "file_extension": ".py",
   "mimetype": "text/x-python",
   "name": "python",
   "nbconvert_exporter": "python",
   "pygments_lexer": "ipython2",
   "version": "2.7.9"
  }
 },
 "nbformat": 4,
 "nbformat_minor": 0
}